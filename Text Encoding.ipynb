{
 "cells": [
  {
   "cell_type": "code",
   "execution_count": 21,
   "metadata": {},
   "outputs": [
    {
     "name": "stdout",
     "output_type": "stream",
     "text": [
      "Default string:  ₹50 \n",
      " Type of string <class 'str'> \n",
      "\n",
      "Encoded to UTF-8:  b'\\xe2\\x82\\xb950' \n",
      " Type of string <class 'bytes'> \n",
      "\n",
      "Decoded from UTF-8:  ₹50 \n",
      " Type of string <class 'str'> \n",
      "\n"
     ]
    }
   ],
   "source": [
    "#Text Encoding\n",
    "\n",
    "# create a string\n",
    "amount = u\"₹50\"\n",
    "print('Default string: ', amount, '\\n', 'Type of string', type(amount), '\\n')\n",
    "\n",
    "# encode to UTF-8 byte format\n",
    "amount_encoded = amount.encode('utf-8')\n",
    "print('Encoded to UTF-8: ', amount_encoded, '\\n', 'Type of string', type(amount_encoded), '\\n')\n",
    "\n",
    "\n",
    "# sometime later in another computer...\n",
    "# decode from UTF-8 byte format\n",
    "amount_decoded = amount_encoded.decode('utf-8')\n",
    "print('Decoded from UTF-8: ', amount_decoded, '\\n', 'Type of string', type(amount_decoded), '\\n')"
   ]
  },
  {
   "cell_type": "code",
   "execution_count": 17,
   "metadata": {},
   "outputs": [
    {
     "name": "stdout",
     "output_type": "stream",
     "text": [
      "Default string:  ₹150 \n",
      " Type of string <class 'str'> \n",
      "\n",
      "Default string:  120% \n",
      " Type of string <class 'str'> \n",
      "\n",
      "Default string:  LOVE_YOU \n",
      " Type of string <class 'str'> \n",
      "\n"
     ]
    }
   ],
   "source": [
    "#Text editor\n",
    "\n",
    "# create a string\n",
    "amount = u\"₹150\"\n",
    "print('Default string: ', amount, '\\n', 'Type of string', type(amount), '\\n')\n",
    "\n",
    "# create a string\n",
    "amount = u\"120%\"\n",
    "print('Default string: ', amount, '\\n', 'Type of string', type(amount), '\\n')\n",
    "\n",
    "# create a string\n",
    "amount = u\"LOVE_YOU\"\n",
    "print('Default string: ', amount, '\\n', 'Type of string', type(amount), '\\n')\n"
   ]
  },
  {
   "cell_type": "code",
   "execution_count": 13,
   "metadata": {},
   "outputs": [
    {
     "name": "stdout",
     "output_type": "stream",
     "text": [
      "Encoded to UTF-32:  b'\\xff\\xfe\\x00\\x001\\x00\\x00\\x002\\x00\\x00\\x000\\x00\\x00\\x00%\\x00\\x00\\x00' \n",
      " Type of string <class 'bytes'> \n",
      "\n",
      "Encoded to UTF-16:  b'\\xff\\xfe1\\x002\\x000\\x00%\\x00' \n",
      " Type of string <class 'bytes'> \n",
      "\n",
      "Encoded to UTF-8:  b'120%' \n",
      " Type of string <class 'bytes'> \n",
      "\n"
     ]
    }
   ],
   "source": [
    "\n",
    "# encode to UTF-8 byte format\n",
    "amount_encoded = amount.encode('utf-32')\n",
    "print('Encoded to UTF-32: ', amount_encoded, '\\n', 'Type of string', type(amount_encoded), '\\n')\n",
    "\n",
    "# encode to UTF-8 byte format\n",
    "amount_encoded = amount.encode('utf-16')\n",
    "print('Encoded to UTF-16: ', amount_encoded, '\\n', 'Type of string', type(amount_encoded), '\\n')\n",
    "\n",
    "# encode to UTF-8 byte format\n",
    "amount_encoded = amount.encode('utf-8')\n",
    "print('Encoded to UTF-8: ', amount_encoded, '\\n', 'Type of string', type(amount_encoded), '\\n')\n",
    "\n"
   ]
  },
  {
   "cell_type": "code",
   "execution_count": 24,
   "metadata": {},
   "outputs": [
    {
     "name": "stdout",
     "output_type": "stream",
     "text": [
      "Decoded from UTF-8:  ₹50 \n",
      " Type of string <class 'str'> \n",
      "\n"
     ]
    }
   ],
   "source": [
    "\n",
    "# sometime later in another computer...\n",
    "# decode from UTF-8 byte format\n",
    "amount_decoded = amount_encoded.decode('utf-8')\n",
    "print('Decoded from UTF-8: ', amount_decoded, '\\n', 'Type of string', type(amount_decoded), '\\n')"
   ]
  }
 ],
 "metadata": {
  "kernelspec": {
   "display_name": "base",
   "language": "python",
   "name": "python3"
  },
  "language_info": {
   "codemirror_mode": {
    "name": "ipython",
    "version": 3
   },
   "file_extension": ".py",
   "mimetype": "text/x-python",
   "name": "python",
   "nbconvert_exporter": "python",
   "pygments_lexer": "ipython3",
   "version": "3.10.9"
  }
 },
 "nbformat": 4,
 "nbformat_minor": 2
}
